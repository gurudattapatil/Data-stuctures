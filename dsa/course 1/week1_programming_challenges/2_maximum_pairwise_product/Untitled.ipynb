{
 "cells": [
  {
   "cell_type": "code",
   "execution_count": null,
   "metadata": {},
   "outputs": [],
   "source": [
    "\n",
    "# Uses python3\n",
    "a, b = [int(i) for i in input().split()]\n",
    "d=a*b\n",
    "\n",
    "def gcd(a,b):\n",
    "    \n",
    "    if(b!=0):\n",
    "        c=a%b\n",
    "        gcd(b,c)\n",
    "  \n",
    "        \n",
    "\n",
    "if (a>b):\n",
    "    gcd(a,b)\n",
    "else:\n",
    "    gcd(b,a)\n",
    "    \n",
    "    \n",
    "\n",
    "print(d//a)\n",
    "    \n",
    "\n",
    "\n",
    "\n"
   ]
  },
  {
   "cell_type": "code",
   "execution_count": null,
   "metadata": {},
   "outputs": [],
   "source": [
    "n, m = [int(i) for i in input().split()]\n",
    "def pisanoPeriod(m): \n",
    "    previous, current = 0, 1\n",
    "    for i in range(0, m * m): \n",
    "        previous, current        = current, (previous + current) % m \n",
    "          \n",
    "        # A Pisano Period starts with 01 \n",
    "        if (previous == 0 and current == 1): \n",
    "            return i + 1\n",
    "  \n",
    "# Calculate Fn mod m  \n",
    "def fibonacciModulo(n, m): \n",
    "      \n",
    "    # Getting the period \n",
    "    pisano_period = pisanoPeriod(m) \n",
    "      \n",
    "    # Taking mod of N with  \n",
    "    # period length \n",
    "    n = n % pisano_period \n",
    "      \n",
    "    previous, current = 0, 1\n",
    "      \n",
    "    for i in range(n-1): \n",
    "        previous, current        = current, previous + current \n",
    "          \n",
    "    return (current % m) \n",
    "\n"
   ]
  },
  {
   "cell_type": "code",
   "execution_count": 2,
   "metadata": {},
   "outputs": [
    {
     "name": "stdout",
     "output_type": "stream",
     "text": [
      "3 8\n"
     ]
    },
    {
     "ename": "TypeError",
     "evalue": "unsupported operand type(s) for //: 'int' and 'function'",
     "output_type": "error",
     "traceback": [
      "\u001b[1;31m---------------------------------------------------------------------------\u001b[0m",
      "\u001b[1;31mTypeError\u001b[0m                                 Traceback (most recent call last)",
      "\u001b[1;32m<ipython-input-2-0a60f9bd9811>\u001b[0m in \u001b[0;36m<module>\u001b[1;34m\u001b[0m\n\u001b[0;32m     17\u001b[0m \u001b[1;33m\u001b[0m\u001b[0m\n\u001b[0;32m     18\u001b[0m \u001b[1;33m\u001b[0m\u001b[0m\n\u001b[1;32m---> 19\u001b[1;33m \u001b[0mprint\u001b[0m\u001b[1;33m(\u001b[0m\u001b[0md\u001b[0m\u001b[1;33m//\u001b[0m\u001b[0mgcd\u001b[0m\u001b[1;33m)\u001b[0m\u001b[1;33m\u001b[0m\u001b[1;33m\u001b[0m\u001b[0m\n\u001b[0m",
      "\u001b[1;31mTypeError\u001b[0m: unsupported operand type(s) for //: 'int' and 'function'"
     ]
    }
   ],
   "source": [
    "a, b = [int(i) for i in input().split()]\n",
    "d=a*b\n",
    "\n",
    "def gcd(a,b):\n",
    "    \n",
    "    if(b!=0):\n",
    "        c=a%b\n",
    "        gcd(b,c)\n",
    "   \n",
    "        \n",
    "\n",
    "if (a>b):\n",
    "    r=gcd(a,b)\n",
    "else:\n",
    "    r=gcd(b,a)\n",
    "    \n",
    "    \n",
    "\n",
    "print(d//gcd)"
   ]
  },
  {
   "cell_type": "code",
   "execution_count": null,
   "metadata": {},
   "outputs": [],
   "source": []
  }
 ],
 "metadata": {
  "kernelspec": {
   "display_name": "Python 3",
   "language": "python",
   "name": "python3"
  },
  "language_info": {
   "codemirror_mode": {
    "name": "ipython",
    "version": 3
   },
   "file_extension": ".py",
   "mimetype": "text/x-python",
   "name": "python",
   "nbconvert_exporter": "python",
   "pygments_lexer": "ipython3",
   "version": "3.7.4"
  }
 },
 "nbformat": 4,
 "nbformat_minor": 2
}
