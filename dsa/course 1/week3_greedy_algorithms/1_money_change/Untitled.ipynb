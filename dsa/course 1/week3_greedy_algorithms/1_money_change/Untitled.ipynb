{
 "cells": [
  {
   "cell_type": "code",
   "execution_count": 12,
   "metadata": {},
   "outputs": [
    {
     "name": "stdout",
     "output_type": "stream",
     "text": [
      "3 50\n",
      "60 20\n",
      "100 50\n",
      "120 30\n",
      "180.0\n",
      "180.0\n"
     ]
    }
   ],
   "source": [
    "n, W = [int(i) for i in input().split()]\n",
    "lst = []\n",
    "\n",
    "if W == 0:\n",
    "    print(0)\n",
    "    quit()\n",
    "\n",
    "for _ in range(n):\n",
    "    v, w = [int(i) for i in input().split()]\n",
    "    if v == 0:\n",
    "        continue\n",
    "    lst.append((v, w))\n",
    "lst.sort(key = lambda x: x[0]/x[1], reverse = True)\n",
    "value =0\n",
    "for v,w in lst:\n",
    "    if W==0:\n",
    "        print(value)\n",
    "        quit()\n",
    "    amt=min(w,W)\n",
    "    value += amt*(v/w)\n",
    "    W -= amt\n",
    "    \n",
    "\n",
    "    \n",
    "\n"
   ]
  },
  {
   "cell_type": "code",
   "execution_count": 13,
   "metadata": {},
   "outputs": [
    {
     "name": "stdout",
     "output_type": "stream",
     "text": [
      "33\n",
      "6\n"
     ]
    }
   ],
   "source": [
    "n = int(input())\n",
    "count = 0\n",
    "for i in [10, 5, 1]:\n",
    "    if n>=i:\n",
    "        q = n//i\n",
    "        count += q\n",
    "        n = n%i\n",
    "        if n==0:\n",
    "            print(count)\n",
    "            quit()"
   ]
  },
  {
   "cell_type": "code",
   "execution_count": 2,
   "metadata": {},
   "outputs": [
    {
     "name": "stdout",
     "output_type": "stream",
     "text": [
      "3\n",
      "1 2 3\n",
      "4\n",
      "4\n"
     ]
    },
    {
     "ename": "TypeError",
     "evalue": "unsupported operand type(s) for -: 'list' and 'int'",
     "output_type": "error",
     "traceback": [
      "\u001b[1;31m---------------------------------------------------------------------------\u001b[0m",
      "\u001b[1;31mTypeError\u001b[0m                                 Traceback (most recent call last)",
      "\u001b[1;32m<ipython-input-2-c4275daf3815>\u001b[0m in \u001b[0;36m<module>\u001b[1;34m\u001b[0m\n\u001b[0;32m      5\u001b[0m     \u001b[0mlst\u001b[0m\u001b[1;33m.\u001b[0m\u001b[0mappend\u001b[0m\u001b[1;33m(\u001b[0m\u001b[0mv\u001b[0m\u001b[1;33m)\u001b[0m\u001b[1;33m\u001b[0m\u001b[1;33m\u001b[0m\u001b[0m\n\u001b[0;32m      6\u001b[0m \u001b[1;32mfor\u001b[0m \u001b[0mv\u001b[0m \u001b[1;32min\u001b[0m \u001b[0mlst\u001b[0m\u001b[1;33m:\u001b[0m\u001b[1;33m\u001b[0m\u001b[1;33m\u001b[0m\u001b[0m\n\u001b[1;32m----> 7\u001b[1;33m     \u001b[0mprint\u001b[0m\u001b[1;33m(\u001b[0m\u001b[0mlst\u001b[0m\u001b[1;33m[\u001b[0m\u001b[0mv\u001b[0m\u001b[1;33m-\u001b[0m\u001b[1;36m1\u001b[0m\u001b[1;33m]\u001b[0m\u001b[1;33m)\u001b[0m\u001b[1;33m\u001b[0m\u001b[1;33m\u001b[0m\u001b[0m\n\u001b[0m",
      "\u001b[1;31mTypeError\u001b[0m: unsupported operand type(s) for -: 'list' and 'int'"
     ]
    }
   ],
   "source": [
    "lst=[]\n",
    "n = int(input())\n",
    "for _ in range(n):\n",
    "    v = [int(i) for i in input().split()]\n",
    "    lst.append(v)\n",
    "for v in lst:\n",
    "    print(lst[v-1])\n"
   ]
  },
  {
   "cell_type": "code",
   "execution_count": 3,
   "metadata": {},
   "outputs": [
    {
     "name": "stdout",
     "output_type": "stream",
     "text": [
      "900\n",
      "400\n",
      "2\n",
      "10 700\n",
      "1\n"
     ]
    }
   ],
   "source": [
    "\n",
    "d = int(input())\n",
    "m = int(input())\n",
    "n = int(input())\n",
    "v = [int(i) for i in input().split()]\n",
    "r=0   \n",
    "a=0    \n",
    "count=0\n",
    "for s in v:\n",
    "    if s>m:\n",
    "        m+=a\n",
    "        if m>d:\n",
    "            quit()\n",
    "        \n",
    "        count+=1\n",
    "        a=s\n",
    "    elif (s-r)>m:\n",
    "            count= (-1)\n",
    "            quit()\n",
    "    r=s\n",
    "print(count)"
   ]
  },
  {
   "cell_type": "code",
   "execution_count": null,
   "metadata": {},
   "outputs": [],
   "source": []
  }
 ],
 "metadata": {
  "kernelspec": {
   "display_name": "Python 3",
   "language": "python",
   "name": "python3"
  },
  "language_info": {
   "codemirror_mode": {
    "name": "ipython",
    "version": 3
   },
   "file_extension": ".py",
   "mimetype": "text/x-python",
   "name": "python",
   "nbconvert_exporter": "python",
   "pygments_lexer": "ipython3",
   "version": "3.7.4"
  }
 },
 "nbformat": 4,
 "nbformat_minor": 2
}
