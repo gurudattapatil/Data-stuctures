{
 "cells": [
  {
   "cell_type": "code",
   "execution_count": null,
   "metadata": {},
   "outputs": [],
   "source": [
    "n = int(input())\n",
    "a = [int(i) for i in input().split()]\n",
    "b = [int(i) for i in input().split()]\n",
    "sem=0\n",
    "for i in range(n):\n",
    "    sem+=(max(a)*max(b))\n",
    "    a.remove(max(a))\n",
    "    b.remove(max(b))\n",
    "    \n",
    "print(sem)"
   ]
  },
  {
   "cell_type": "code",
   "execution_count": null,
   "metadata": {},
   "outputs": [],
   "source": [
    "n=int(input())\n",
    "lst = []\n",
    "lst1=[]\n",
    "lst2=[]\n",
    "for _ in range(n):\n",
    "    v, w = [int(i) for i in input().split()]\n",
    "    lst.append((v, w))\n",
    "lst.sort(key = lambda x: x[1])\n",
    "\n",
    "p=0 \n",
    "count=0\n",
    "for v,w in lst:\n",
    "    p=w\n",
    "    if len(lst)==0:\n",
    "        break\n",
    "    for v,w in lst:\n",
    "        if v>p:\n",
    "            lst1.append((v,w))\n",
    "    lst=lst1\n",
    "    count=count+1\n",
    "    lst1=[]\n",
    "    lst2.append(p)\n",
    "    \n",
    "print(count)\n",
    "print(' '.join([str(i) for i in lst2]))"
   ]
  },
  {
   "cell_type": "code",
   "execution_count": null,
   "metadata": {},
   "outputs": [],
   "source": [
    "n=int(input())\n",
    "lst=[]\n",
    "i=1\n",
    "count=0\n",
    "if n==1:\n",
    "    print(1)\n",
    "    print(1)\n",
    "    quit()\n",
    "while n>0:\n",
    "    n-=i\n",
    "    if n<i:\n",
    "        i+=n\n",
    "        n=0\n",
    "    lst.append(i)\n",
    "    count+=1\n",
    "    i+=1\n",
    "print(count)    \n",
    "print(' '.join([str(a) for a in lst]))    \n",
    "    "
   ]
  },
  {
   "cell_type": "code",
   "execution_count": 11,
   "metadata": {},
   "outputs": [
    {
     "name": "stdout",
     "output_type": "stream",
     "text": [
      "2\n",
      "11\n",
      "1 0 0 0 0 0 0 0 0 1 0 \n",
      "YES\n",
      "6\n",
      "1 0 0 0 1 0\n",
      "NO\n"
     ]
    }
   ],
   "source": [
    "n=int(input())\n",
    "lst=[]\n",
    "j=0\n",
    "while j<n:\n",
    "    j+=1\n",
    "    m=int(input())\n",
    "    p = [int(i) for i in input().split()]\n",
    "    q=0\n",
    "    count=0\n",
    "    for num in p:\n",
    "        count+=1\n",
    "        if num==1:\n",
    "            lst.append(count)\n",
    "    \n",
    "    q=lst[0] \n",
    "    \n",
    "    r=0\n",
    "    lst.remove(lst[0])\n",
    "    for a in lst:\n",
    "        if (a-q)<6:\n",
    "            print('NO')\n",
    "            r+=1\n",
    "            break\n",
    "        q=a\n",
    "    if r==0:\n",
    "        print('YES')   \n",
    "        \n",
    "        \n",
    "       \n",
    "    \n"
   ]
  },
  {
   "cell_type": "code",
   "execution_count": null,
   "metadata": {},
   "outputs": [],
   "source": []
  },
  {
   "cell_type": "code",
   "execution_count": null,
   "metadata": {},
   "outputs": [],
   "source": []
  }
 ],
 "metadata": {
  "kernelspec": {
   "display_name": "Python 3",
   "language": "python",
   "name": "python3"
  },
  "language_info": {
   "codemirror_mode": {
    "name": "ipython",
    "version": 3
   },
   "file_extension": ".py",
   "mimetype": "text/x-python",
   "name": "python",
   "nbconvert_exporter": "python",
   "pygments_lexer": "ipython3",
   "version": "3.7.4"
  }
 },
 "nbformat": 4,
 "nbformat_minor": 2
}
